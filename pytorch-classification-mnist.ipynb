{
 "cells": [
  {
   "cell_type": "markdown",
   "id": "62600615",
   "metadata": {
    "papermill": {
     "duration": 0.007131,
     "end_time": "2025-01-31T23:37:05.684112",
     "exception": false,
     "start_time": "2025-01-31T23:37:05.676981",
     "status": "completed"
    },
    "tags": []
   },
   "source": [
    "# Step 1: Import Libraries"
   ]
  },
  {
   "cell_type": "markdown",
   "id": "fcc2ad43",
   "metadata": {
    "papermill": {
     "duration": 0.004666,
     "end_time": "2025-01-31T23:37:05.693755",
     "exception": false,
     "start_time": "2025-01-31T23:37:05.689089",
     "status": "completed"
    },
    "tags": []
   },
   "source": [
    "### For more details,visit the official documentation: \n",
    "\n",
    "## [PyTorch](https://pytorch.org/docs/stable/index.html)\n",
    "\n",
    "\n",
    "## [Torch.nn](https://pytorch.org/docs/stable/nn.html)\n",
    "\n",
    "\n",
    "\n",
    "## [Torchvision](https://pytorch.org/vision/stable/index.html)"
   ]
  },
  {
   "cell_type": "code",
   "execution_count": 1,
   "id": "4d8367b8",
   "metadata": {
    "execution": {
     "iopub.execute_input": "2025-01-31T23:37:05.705429Z",
     "iopub.status.busy": "2025-01-31T23:37:05.705169Z",
     "iopub.status.idle": "2025-01-31T23:37:13.111261Z",
     "shell.execute_reply": "2025-01-31T23:37:13.110315Z"
    },
    "papermill": {
     "duration": 7.41398,
     "end_time": "2025-01-31T23:37:13.112702",
     "exception": false,
     "start_time": "2025-01-31T23:37:05.698722",
     "status": "completed"
    },
    "tags": []
   },
   "outputs": [
    {
     "name": "stdout",
     "output_type": "stream",
     "text": [
      "2.5.1+cu121\n",
      "0.20.1+cu121\n"
     ]
    }
   ],
   "source": [
    "import matplotlib.pyplot as plt # for visualizing\n",
    "import torch\n",
    "from torch import nn\n",
    "import torchvision\n",
    "from torchvision import datasets\n",
    "from torchvision import transforms\n",
    "from torchvision.transforms import ToTensor\n",
    "\n",
    "print(torch.__version__)\n",
    "print(torchvision.__version__)\n"
   ]
  },
  {
   "cell_type": "markdown",
   "id": "efc61074",
   "metadata": {
    "papermill": {
     "duration": 0.004901,
     "end_time": "2025-01-31T23:37:13.122930",
     "exception": false,
     "start_time": "2025-01-31T23:37:13.118029",
     "status": "completed"
    },
    "tags": []
   },
   "source": [
    "# Step 2: Setting Up Device(GPU-Agnostic code)"
   ]
  },
  {
   "cell_type": "code",
   "execution_count": 2,
   "id": "c47c66e3",
   "metadata": {
    "execution": {
     "iopub.execute_input": "2025-01-31T23:37:13.134187Z",
     "iopub.status.busy": "2025-01-31T23:37:13.133667Z",
     "iopub.status.idle": "2025-01-31T23:37:13.213476Z",
     "shell.execute_reply": "2025-01-31T23:37:13.212618Z"
    },
    "papermill": {
     "duration": 0.086925,
     "end_time": "2025-01-31T23:37:13.214884",
     "exception": false,
     "start_time": "2025-01-31T23:37:13.127959",
     "status": "completed"
    },
    "tags": []
   },
   "outputs": [
    {
     "data": {
      "text/plain": [
       "'cuda'"
      ]
     },
     "execution_count": 2,
     "metadata": {},
     "output_type": "execute_result"
    }
   ],
   "source": [
    "device='cuda' if torch.cuda.is_available() else 'cpu'\n",
    "device"
   ]
  },
  {
   "cell_type": "code",
   "execution_count": 3,
   "id": "7c0725a1",
   "metadata": {
    "execution": {
     "iopub.execute_input": "2025-01-31T23:37:13.226727Z",
     "iopub.status.busy": "2025-01-31T23:37:13.226425Z",
     "iopub.status.idle": "2025-01-31T23:37:13.470749Z",
     "shell.execute_reply": "2025-01-31T23:37:13.469727Z"
    },
    "papermill": {
     "duration": 0.25157,
     "end_time": "2025-01-31T23:37:13.471966",
     "exception": false,
     "start_time": "2025-01-31T23:37:13.220396",
     "status": "completed"
    },
    "tags": []
   },
   "outputs": [
    {
     "name": "stdout",
     "output_type": "stream",
     "text": [
      "Fri Jan 31 23:37:13 2025       \r\n",
      "+-----------------------------------------------------------------------------------------+\r\n",
      "| NVIDIA-SMI 560.35.03              Driver Version: 560.35.03      CUDA Version: 12.6     |\r\n",
      "|-----------------------------------------+------------------------+----------------------+\r\n",
      "| GPU  Name                 Persistence-M | Bus-Id          Disp.A | Volatile Uncorr. ECC |\r\n",
      "| Fan  Temp   Perf          Pwr:Usage/Cap |           Memory-Usage | GPU-Util  Compute M. |\r\n",
      "|                                         |                        |               MIG M. |\r\n",
      "|=========================================+========================+======================|\r\n",
      "|   0  Tesla T4                       Off |   00000000:00:04.0 Off |                    0 |\r\n",
      "| N/A   46C    P8             10W /   70W |       3MiB /  15360MiB |      0%      Default |\r\n",
      "|                                         |                        |                  N/A |\r\n",
      "+-----------------------------------------+------------------------+----------------------+\r\n",
      "|   1  Tesla T4                       Off |   00000000:00:05.0 Off |                    0 |\r\n",
      "| N/A   50C    P8             10W /   70W |       3MiB /  15360MiB |      0%      Default |\r\n",
      "|                                         |                        |                  N/A |\r\n",
      "+-----------------------------------------+------------------------+----------------------+\r\n",
      "                                                                                         \r\n",
      "+-----------------------------------------------------------------------------------------+\r\n",
      "| Processes:                                                                              |\r\n",
      "|  GPU   GI   CI        PID   Type   Process name                              GPU Memory |\r\n",
      "|        ID   ID                                                               Usage      |\r\n",
      "|=========================================================================================|\r\n",
      "|  No running processes found                                                             |\r\n",
      "+-----------------------------------------------------------------------------------------+\r\n"
     ]
    }
   ],
   "source": [
    "#check our GPU\n",
    "!nvidia-smi"
   ]
  },
  {
   "cell_type": "markdown",
   "id": "4aecd778",
   "metadata": {
    "papermill": {
     "duration": 0.005319,
     "end_time": "2025-01-31T23:37:13.482645",
     "exception": false,
     "start_time": "2025-01-31T23:37:13.477326",
     "status": "completed"
    },
    "tags": []
   },
   "source": [
    "# Step 3: Loading the MNIST Dataset"
   ]
  },
  {
   "cell_type": "code",
   "execution_count": 4,
   "id": "5233d2b8",
   "metadata": {
    "execution": {
     "iopub.execute_input": "2025-01-31T23:37:13.494351Z",
     "iopub.status.busy": "2025-01-31T23:37:13.493968Z",
     "iopub.status.idle": "2025-01-31T23:37:17.260214Z",
     "shell.execute_reply": "2025-01-31T23:37:17.259034Z"
    },
    "papermill": {
     "duration": 3.773919,
     "end_time": "2025-01-31T23:37:17.261835",
     "exception": false,
     "start_time": "2025-01-31T23:37:13.487916",
     "status": "completed"
    },
    "tags": []
   },
   "outputs": [
    {
     "name": "stdout",
     "output_type": "stream",
     "text": [
      "Downloading http://yann.lecun.com/exdb/mnist/train-images-idx3-ubyte.gz\n",
      "Failed to download (trying next):\n",
      "<urlopen error [Errno 111] Connection refused>\n",
      "\n",
      "Downloading https://ossci-datasets.s3.amazonaws.com/mnist/train-images-idx3-ubyte.gz\n",
      "Downloading https://ossci-datasets.s3.amazonaws.com/mnist/train-images-idx3-ubyte.gz to /kaggle/working/MNIST/raw/train-images-idx3-ubyte.gz\n"
     ]
    },
    {
     "name": "stderr",
     "output_type": "stream",
     "text": [
      "100%|██████████| 9.91M/9.91M [00:00<00:00, 17.0MB/s]\n"
     ]
    },
    {
     "name": "stdout",
     "output_type": "stream",
     "text": [
      "Extracting /kaggle/working/MNIST/raw/train-images-idx3-ubyte.gz to /kaggle/working/MNIST/raw\n",
      "\n",
      "Downloading http://yann.lecun.com/exdb/mnist/train-labels-idx1-ubyte.gz\n",
      "Failed to download (trying next):\n",
      "<urlopen error [Errno 111] Connection refused>\n",
      "\n",
      "Downloading https://ossci-datasets.s3.amazonaws.com/mnist/train-labels-idx1-ubyte.gz\n",
      "Downloading https://ossci-datasets.s3.amazonaws.com/mnist/train-labels-idx1-ubyte.gz to /kaggle/working/MNIST/raw/train-labels-idx1-ubyte.gz\n"
     ]
    },
    {
     "name": "stderr",
     "output_type": "stream",
     "text": [
      "100%|██████████| 28.9k/28.9k [00:00<00:00, 461kB/s]\n"
     ]
    },
    {
     "name": "stdout",
     "output_type": "stream",
     "text": [
      "Extracting /kaggle/working/MNIST/raw/train-labels-idx1-ubyte.gz to /kaggle/working/MNIST/raw\n",
      "\n",
      "Downloading http://yann.lecun.com/exdb/mnist/t10k-images-idx3-ubyte.gz\n",
      "Failed to download (trying next):\n",
      "<urlopen error [Errno 111] Connection refused>\n",
      "\n",
      "Downloading https://ossci-datasets.s3.amazonaws.com/mnist/t10k-images-idx3-ubyte.gz\n",
      "Downloading https://ossci-datasets.s3.amazonaws.com/mnist/t10k-images-idx3-ubyte.gz to /kaggle/working/MNIST/raw/t10k-images-idx3-ubyte.gz\n"
     ]
    },
    {
     "name": "stderr",
     "output_type": "stream",
     "text": [
      "100%|██████████| 1.65M/1.65M [00:00<00:00, 4.24MB/s]\n"
     ]
    },
    {
     "name": "stdout",
     "output_type": "stream",
     "text": [
      "Extracting /kaggle/working/MNIST/raw/t10k-images-idx3-ubyte.gz to /kaggle/working/MNIST/raw\n",
      "\n",
      "Downloading http://yann.lecun.com/exdb/mnist/t10k-labels-idx1-ubyte.gz\n",
      "Failed to download (trying next):\n",
      "<urlopen error [Errno 111] Connection refused>\n",
      "\n",
      "Downloading https://ossci-datasets.s3.amazonaws.com/mnist/t10k-labels-idx1-ubyte.gz\n",
      "Downloading https://ossci-datasets.s3.amazonaws.com/mnist/t10k-labels-idx1-ubyte.gz to /kaggle/working/MNIST/raw/t10k-labels-idx1-ubyte.gz\n"
     ]
    },
    {
     "name": "stderr",
     "output_type": "stream",
     "text": [
      "100%|██████████| 4.54k/4.54k [00:00<00:00, 6.98MB/s]"
     ]
    },
    {
     "name": "stdout",
     "output_type": "stream",
     "text": [
      "Extracting /kaggle/working/MNIST/raw/t10k-labels-idx1-ubyte.gz to /kaggle/working/MNIST/raw\n",
      "\n"
     ]
    },
    {
     "name": "stderr",
     "output_type": "stream",
     "text": [
      "\n"
     ]
    }
   ],
   "source": [
    "train_data=torchvision.datasets.MNIST(root='/kaggle/working/',\n",
    "                                               train=True,\n",
    "                                               download=True,\n",
    "                                               transform=torchvision.transforms.ToTensor(),\n",
    "                                               target_transform=None\n",
    "                                                 )\n",
    "\n",
    "test_data=torchvision.datasets.MNIST(root='/kaggle/working/',\n",
    "                                              train=False,\n",
    "                                              download=True,\n",
    "                                              transform=torchvision.transforms.ToTensor(),\n",
    "                                              target_transform=None)\n",
    "\n",
    "                                                           "
   ]
  },
  {
   "cell_type": "markdown",
   "id": "d8a396d5",
   "metadata": {
    "execution": {
     "iopub.execute_input": "2025-01-28T17:47:22.455460Z",
     "iopub.status.busy": "2025-01-28T17:47:22.454974Z",
     "iopub.status.idle": "2025-01-28T17:47:22.461730Z",
     "shell.execute_reply": "2025-01-28T17:47:22.459800Z",
     "shell.execute_reply.started": "2025-01-28T17:47:22.455427Z"
    },
    "papermill": {
     "duration": 0.006557,
     "end_time": "2025-01-31T23:37:17.275463",
     "exception": false,
     "start_time": "2025-01-31T23:37:17.268906",
     "status": "completed"
    },
    "tags": []
   },
   "source": [
    "# Step 4: Creating Dataloaders for Training and Testing"
   ]
  },
  {
   "cell_type": "code",
   "execution_count": 5,
   "id": "bb38aa8a",
   "metadata": {
    "execution": {
     "iopub.execute_input": "2025-01-31T23:37:17.290090Z",
     "iopub.status.busy": "2025-01-31T23:37:17.289861Z",
     "iopub.status.idle": "2025-01-31T23:37:17.296399Z",
     "shell.execute_reply": "2025-01-31T23:37:17.295665Z"
    },
    "papermill": {
     "duration": 0.015365,
     "end_time": "2025-01-31T23:37:17.297806",
     "exception": false,
     "start_time": "2025-01-31T23:37:17.282441",
     "status": "completed"
    },
    "tags": []
   },
   "outputs": [
    {
     "data": {
      "text/plain": [
       "(Dataset MNIST\n",
       "     Number of datapoints: 60000\n",
       "     Root location: /kaggle/working/\n",
       "     Split: Train\n",
       "     StandardTransform\n",
       " Transform: ToTensor(),\n",
       " Dataset MNIST\n",
       "     Number of datapoints: 10000\n",
       "     Root location: /kaggle/working/\n",
       "     Split: Test\n",
       "     StandardTransform\n",
       " Transform: ToTensor())"
      ]
     },
     "execution_count": 5,
     "metadata": {},
     "output_type": "execute_result"
    }
   ],
   "source": [
    "from torch.utils.data import DataLoader #\n",
    "\n",
    "train_dataloader=DataLoader(dataset=train_data,\n",
    "                            batch_size=32,\n",
    "                            shuffle=True )\n",
    "\n",
    "test_dataloader=DataLoader(dataset=test_data,\n",
    "                          batch_size=32,\n",
    "                          shuffle=True)\n",
    "\n",
    "train_dataloader.dataset,test_dataloader.dataset"
   ]
  },
  {
   "cell_type": "code",
   "execution_count": 6,
   "id": "6034631f",
   "metadata": {
    "execution": {
     "iopub.execute_input": "2025-01-31T23:37:17.312921Z",
     "iopub.status.busy": "2025-01-31T23:37:17.312648Z",
     "iopub.status.idle": "2025-01-31T23:37:17.987694Z",
     "shell.execute_reply": "2025-01-31T23:37:17.986984Z"
    },
    "papermill": {
     "duration": 0.684495,
     "end_time": "2025-01-31T23:37:17.989290",
     "exception": false,
     "start_time": "2025-01-31T23:37:17.304795",
     "status": "completed"
    },
    "tags": []
   },
   "outputs": [],
   "source": [
    "import pandas as pd\n",
    "\n",
    "def create_dataframe (dataloader,dataset_name=str):\n",
    "    len_data=len(dataloader.dataset)\n",
    "    num_classes=len(dataloader.dataset.classes)\n",
    "    #class_name=dataloader.dataset.classes\n",
    "    sample_image,label=next(iter(dataloader))\n",
    "    image_shape=sample_image.shape\n",
    "    batch=len(dataloader)\n",
    "    label_shape=label.shape\n",
    "    image_type=sample_image.dtype\n",
    "    data={'Dataset Name':[dataset_name],\n",
    "          'Number of images':[len_data],\n",
    "          'Number of Batch':[batch],\n",
    "          'Number of classes':[num_classes],\n",
    "          #'Class names':[class_name],\n",
    "          'Label shape':[label_shape],\n",
    "          'Type of images':[image_type],\n",
    "          'Image shape [N,C,H,W]':[[image_shape]]}\n",
    "    df=pd.DataFrame(data)\n",
    "    return df\n",
    "    "
   ]
  },
  {
   "cell_type": "code",
   "execution_count": 7,
   "id": "b32a2cd7",
   "metadata": {
    "execution": {
     "iopub.execute_input": "2025-01-31T23:37:18.004298Z",
     "iopub.status.busy": "2025-01-31T23:37:18.003819Z",
     "iopub.status.idle": "2025-01-31T23:37:18.084499Z",
     "shell.execute_reply": "2025-01-31T23:37:18.083634Z"
    },
    "papermill": {
     "duration": 0.089696,
     "end_time": "2025-01-31T23:37:18.085981",
     "exception": false,
     "start_time": "2025-01-31T23:37:17.996285",
     "status": "completed"
    },
    "tags": []
   },
   "outputs": [
    {
     "data": {
      "text/html": [
       "<div>\n",
       "<style scoped>\n",
       "    .dataframe tbody tr th:only-of-type {\n",
       "        vertical-align: middle;\n",
       "    }\n",
       "\n",
       "    .dataframe tbody tr th {\n",
       "        vertical-align: top;\n",
       "    }\n",
       "\n",
       "    .dataframe thead th {\n",
       "        text-align: right;\n",
       "    }\n",
       "</style>\n",
       "<table border=\"1\" class=\"dataframe\">\n",
       "  <thead>\n",
       "    <tr style=\"text-align: right;\">\n",
       "      <th></th>\n",
       "      <th>Dataset Name</th>\n",
       "      <th>Number of images</th>\n",
       "      <th>Number of Batch</th>\n",
       "      <th>Number of classes</th>\n",
       "      <th>Label shape</th>\n",
       "      <th>Type of images</th>\n",
       "      <th>Image shape [N,C,H,W]</th>\n",
       "    </tr>\n",
       "  </thead>\n",
       "  <tbody>\n",
       "    <tr>\n",
       "      <th>0</th>\n",
       "      <td>Train</td>\n",
       "      <td>60000</td>\n",
       "      <td>1875</td>\n",
       "      <td>10</td>\n",
       "      <td>(32,)</td>\n",
       "      <td>torch.float32</td>\n",
       "      <td>[(32, 1, 28, 28)]</td>\n",
       "    </tr>\n",
       "    <tr>\n",
       "      <th>0</th>\n",
       "      <td>Test</td>\n",
       "      <td>10000</td>\n",
       "      <td>313</td>\n",
       "      <td>10</td>\n",
       "      <td>(32,)</td>\n",
       "      <td>torch.float32</td>\n",
       "      <td>[(32, 1, 28, 28)]</td>\n",
       "    </tr>\n",
       "  </tbody>\n",
       "</table>\n",
       "</div>"
      ],
      "text/plain": [
       "  Dataset Name  Number of images  Number of Batch  Number of classes  \\\n",
       "0        Train             60000             1875                 10   \n",
       "0         Test             10000              313                 10   \n",
       "\n",
       "  Label shape Type of images Image shape [N,C,H,W]  \n",
       "0       (32,)  torch.float32     [(32, 1, 28, 28)]  \n",
       "0       (32,)  torch.float32     [(32, 1, 28, 28)]  "
      ]
     },
     "execution_count": 7,
     "metadata": {},
     "output_type": "execute_result"
    }
   ],
   "source": [
    "train_df=create_dataframe(train_dataloader,'Train')\n",
    "test_df=create_dataframe(test_dataloader,'Test')\n",
    "\n",
    "pd.concat([train_df,test_df])"
   ]
  },
  {
   "cell_type": "markdown",
   "id": "d4ef1ed9",
   "metadata": {
    "papermill": {
     "duration": 0.006961,
     "end_time": "2025-01-31T23:37:18.100029",
     "exception": false,
     "start_time": "2025-01-31T23:37:18.093068",
     "status": "completed"
    },
    "tags": []
   },
   "source": [
    "# Visualizing"
   ]
  },
  {
   "cell_type": "code",
   "execution_count": 8,
   "id": "666d83ff",
   "metadata": {
    "execution": {
     "iopub.execute_input": "2025-01-31T23:37:18.114486Z",
     "iopub.status.busy": "2025-01-31T23:37:18.114248Z",
     "iopub.status.idle": "2025-01-31T23:37:18.119194Z",
     "shell.execute_reply": "2025-01-31T23:37:18.118509Z"
    },
    "papermill": {
     "duration": 0.013305,
     "end_time": "2025-01-31T23:37:18.120360",
     "exception": false,
     "start_time": "2025-01-31T23:37:18.107055",
     "status": "completed"
    },
    "tags": []
   },
   "outputs": [
    {
     "data": {
      "text/plain": [
       "torch.Size([1, 28, 28])"
      ]
     },
     "execution_count": 8,
     "metadata": {},
     "output_type": "execute_result"
    }
   ],
   "source": [
    "test_dataloader.dataset[0][0].shape"
   ]
  },
  {
   "cell_type": "code",
   "execution_count": 9,
   "id": "9d59dc45",
   "metadata": {
    "execution": {
     "iopub.execute_input": "2025-01-31T23:37:18.136188Z",
     "iopub.status.busy": "2025-01-31T23:37:18.135944Z",
     "iopub.status.idle": "2025-01-31T23:37:19.014722Z",
     "shell.execute_reply": "2025-01-31T23:37:19.013890Z"
    },
    "papermill": {
     "duration": 0.889127,
     "end_time": "2025-01-31T23:37:19.016415",
     "exception": false,
     "start_time": "2025-01-31T23:37:18.127288",
     "status": "completed"
    },
    "tags": []
   },
   "outputs": [
    {
     "data": {
      "image/png": "[encoded data removed]",
      "text/plain": [
       "<Figure size 640x480 with 12 Axes>"
      ]
     },
     "metadata": {},
     "output_type": "display_data"
    }
   ],
   "source": [
    "import random\n",
    "random.seed(42)\n",
    "test_images_labels=[]\n",
    "\n",
    "random_inx=random.sample(range(len(test_dataloader)), k=12)  \n",
    "random_samples=[test_dataloader.dataset[i] for i in random_inx ]\n",
    "for img,label in random_samples:\n",
    "    test_images_labels.append((img,label))\n",
    "\n",
    "for inx,(img,label) in enumerate(test_images_labels):\n",
    "  \n",
    "    img=img.permute(1,2,0) # [c,h,w] to [h,w,c]\n",
    "   \n",
    "    plt.subplot(3,4,inx+1)\n",
    "    plt.imshow(img,cmap='gray')\n",
    "    plt.axis(False)\n",
    "    title_text=train_dataloader.dataset.classes[label]\n",
    "    plt.title(title_text)\n",
    "    \n",
    "    "
   ]
  },
  {
   "cell_type": "code",
   "execution_count": 10,
   "id": "fae932fb",
   "metadata": {
    "execution": {
     "iopub.execute_input": "2025-01-31T23:37:19.033775Z",
     "iopub.status.busy": "2025-01-31T23:37:19.033494Z",
     "iopub.status.idle": "2025-01-31T23:37:19.042883Z",
     "shell.execute_reply": "2025-01-31T23:37:19.042135Z"
    },
    "papermill": {
     "duration": 0.019546,
     "end_time": "2025-01-31T23:37:19.044110",
     "exception": false,
     "start_time": "2025-01-31T23:37:19.024564",
     "status": "completed"
    },
    "tags": []
   },
   "outputs": [],
   "source": [
    "class MNISTModelV1(nn.Module):\n",
    "    def __init__(self,input_shape:int,hidden_units:int,output_shape:int):\n",
    "        super().__init__()\n",
    "        self.conv_block_1=nn.Sequential( # this tow layers are going to be feature extractors.they are trying to learn the patterns that the best represent our data\n",
    "            torch.nn.Conv2d(in_channels=input_shape,  # Number of channels in the input image\n",
    "                      out_channels=hidden_units,   #Number of channels produced by the convolution\n",
    "                      kernel_size=(3,3),  #Size of the convolving kernel\n",
    "                      stride=1,  # Stride of the convolution. Default: 1\n",
    "                      padding=1),\n",
    "            nn.BatchNorm2d(64),\n",
    "            nn.ReLU(),\n",
    "            nn.Conv2d(in_channels=64,\n",
    "                      out_channels=128,\n",
    "                      kernel_size=(3,3),\n",
    "                      stride=1,padding=1),\n",
    "            nn.BatchNorm2d(128),\n",
    "            nn.ReLU(),\n",
    "            nn.MaxPool2d((2,2)))\n",
    "            \n",
    "        self.conv_block_2=nn.Sequential(\n",
    "            nn.Conv2d(in_channels=128,\n",
    "                      out_channels=64,\n",
    "                      kernel_size=(3,3),\n",
    "                      stride=1,\n",
    "                      padding=1),\n",
    "            nn.BatchNorm2d(64),\n",
    "            nn.ReLU(),\n",
    "            nn.Conv2d(in_channels=64,\n",
    "                      out_channels=128,\n",
    "                      kernel_size=(3,3),\n",
    "                      stride=1,\n",
    "                      padding=1),\n",
    "            nn.BatchNorm2d(128),\n",
    "            nn.Conv2d(in_channels=128,\n",
    "                      out_channels=128,\n",
    "                      kernel_size=(3,3),\n",
    "                      stride=1,\n",
    "                      padding=1),\n",
    "            nn.ReLU(),\n",
    "            nn.MaxPool2d(kernel_size=(2,2)))\n",
    "        #self.match_dimensions=nn.Conv2d(in_channels=512,out_channels=128,kernel_size=(1,1))\n",
    "            \n",
    "        \n",
    "        self.flatten=nn.Flatten()\n",
    "        \n",
    "        self.output_shape=output_shape\n",
    "        self.hidden_units=hidden_units\n",
    "        self.classifier1=nn.Linear(in_features=1,out_features=hidden_units)\n",
    "        self.drop=nn.Dropout(p=0.5,inplace=False)\n",
    "        self.classifier2=nn.Linear(in_features=hidden_units,out_features=hidden_units)\n",
    "        self.drop2=nn.Dropout(p=0.5,inplace=False)\n",
    "        self.classifier3=nn.Linear(in_features=hidden_units,out_features=self.output_shape)\n",
    "\n",
    "\n",
    "    def forward(self,x):\n",
    "        \n",
    "        out1=self.conv_block_1(x)\n",
    "       #print(out1.shape)\n",
    "      \n",
    "        out2=self.conv_block_2(out1)\n",
    "        #print(out2.shape)\n",
    "        out1=nn.functional.interpolate(out1,size=(out2.shape[2],out2.shape[3]),mode='nearest')\n",
    "        out2+=out1\n",
    "       \n",
    "        x=self.flatten(out2)\n",
    "        #print(x.shape)\n",
    "        if self.classifier1.in_features==1:\n",
    "            in_features=x.shape[1]\n",
    "            self.classifier1=nn.Linear(in_features,out_features=self.hidden_units).to(x.device)\n",
    "        x=self.classifier1(x)\n",
    "        x=self.drop(x)\n",
    "        \n",
    "        x=self.classifier2(x)\n",
    "        x=self.drop2(x)\n",
    "        x=self.classifier3(x)\n",
    "       \n",
    "            \n",
    "\n",
    "        return x\n",
    "        \n",
    "        \n",
    "            \n",
    "            "
   ]
  },
  {
   "cell_type": "code",
   "execution_count": 11,
   "id": "bac9a86a",
   "metadata": {
    "execution": {
     "iopub.execute_input": "2025-01-31T23:37:19.060014Z",
     "iopub.status.busy": "2025-01-31T23:37:19.059782Z",
     "iopub.status.idle": "2025-01-31T23:37:19.297110Z",
     "shell.execute_reply": "2025-01-31T23:37:19.296015Z"
    },
    "papermill": {
     "duration": 0.247191,
     "end_time": "2025-01-31T23:37:19.298721",
     "exception": false,
     "start_time": "2025-01-31T23:37:19.051530",
     "status": "completed"
    },
    "tags": []
   },
   "outputs": [
    {
     "data": {
      "text/plain": [
       "MNISTModelV1(\n",
       "  (conv_block_1): Sequential(\n",
       "    (0): Conv2d(1, 64, kernel_size=(3, 3), stride=(1, 1), padding=(1, 1))\n",
       "    (1): BatchNorm2d(64, eps=1e-05, momentum=0.1, affine=True, track_running_stats=True)\n",
       "    (2): ReLU()\n",
       "    (3): Conv2d(64, 128, kernel_size=(3, 3), stride=(1, 1), padding=(1, 1))\n",
       "    (4): BatchNorm2d(128, eps=1e-05, momentum=0.1, affine=True, track_running_stats=True)\n",
       "    (5): ReLU()\n",
       "    (6): MaxPool2d(kernel_size=(2, 2), stride=(2, 2), padding=0, dilation=1, ceil_mode=False)\n",
       "  )\n",
       "  (conv_block_2): Sequential(\n",
       "    (0): Conv2d(128, 64, kernel_size=(3, 3), stride=(1, 1), padding=(1, 1))\n",
       "    (1): BatchNorm2d(64, eps=1e-05, momentum=0.1, affine=True, track_running_stats=True)\n",
       "    (2): ReLU()\n",
       "    (3): Conv2d(64, 128, kernel_size=(3, 3), stride=(1, 1), padding=(1, 1))\n",
       "    (4): BatchNorm2d(128, eps=1e-05, momentum=0.1, affine=True, track_running_stats=True)\n",
       "    (5): Conv2d(128, 128, kernel_size=(3, 3), stride=(1, 1), padding=(1, 1))\n",
       "    (6): ReLU()\n",
       "    (7): MaxPool2d(kernel_size=(2, 2), stride=(2, 2), padding=0, dilation=1, ceil_mode=False)\n",
       "  )\n",
       "  (flatten): Flatten(start_dim=1, end_dim=-1)\n",
       "  (classifier1): Linear(in_features=1, out_features=64, bias=True)\n",
       "  (drop): Dropout(p=0.5, inplace=False)\n",
       "  (classifier2): Linear(in_features=64, out_features=64, bias=True)\n",
       "  (drop2): Dropout(p=0.5, inplace=False)\n",
       "  (classifier3): Linear(in_features=64, out_features=10, bias=True)\n",
       ")"
      ]
     },
     "execution_count": 11,
     "metadata": {},
     "output_type": "execute_result"
    }
   ],
   "source": [
    "torch.cuda.manual_seed(42)\n",
    "model=MNISTModelV1(input_shape=1, #color channel\n",
    "                            hidden_units=64,\n",
    "                            output_shape=len(train_dataloader.dataset.classes)).to(device)\n",
    "model"
   ]
  },
  {
   "cell_type": "code",
   "execution_count": 12,
   "id": "45926d9f",
   "metadata": {
    "execution": {
     "iopub.execute_input": "2025-01-31T23:37:19.316255Z",
     "iopub.status.busy": "2025-01-31T23:37:19.315996Z",
     "iopub.status.idle": "2025-01-31T23:37:23.146728Z",
     "shell.execute_reply": "2025-01-31T23:37:23.145715Z"
    },
    "papermill": {
     "duration": 3.840797,
     "end_time": "2025-01-31T23:37:23.148467",
     "exception": false,
     "start_time": "2025-01-31T23:37:19.307670",
     "status": "completed"
    },
    "tags": []
   },
   "outputs": [],
   "source": [
    "from torchmetrics import Accuracy\n",
    "from torchmetrics import  ConfusionMatrix\n",
    "from torchmetrics.classification import MulticlassPrecision\n"
   ]
  },
  {
   "cell_type": "code",
   "execution_count": 13,
   "id": "9133ba22",
   "metadata": {
    "execution": {
     "iopub.execute_input": "2025-01-31T23:37:23.166197Z",
     "iopub.status.busy": "2025-01-31T23:37:23.165798Z",
     "iopub.status.idle": "2025-01-31T23:37:23.177181Z",
     "shell.execute_reply": "2025-01-31T23:37:23.176473Z"
    },
    "papermill": {
     "duration": 0.021782,
     "end_time": "2025-01-31T23:37:23.178402",
     "exception": false,
     "start_time": "2025-01-31T23:37:23.156620",
     "status": "completed"
    },
    "tags": []
   },
   "outputs": [],
   "source": [
    "\n",
    "\n",
    "loss_fn = nn.CrossEntropyLoss().to(device)\n",
    "optimizer = torch.optim.SGD(params=model.parameters(), lr=0.01)#,momentum=0.9)\n",
    "#scheduler = torch.optim.lr_scheduler.ExponentialLR(optimizer, gamma=0.9)\n",
    "accuracy = Accuracy(task=\"multiclass\", num_classes=len(train_data.classes)).to(device)\n"
   ]
  },
  {
   "cell_type": "code",
   "execution_count": 14,
   "id": "cf9db697",
   "metadata": {
    "execution": {
     "iopub.execute_input": "2025-01-31T23:37:23.194007Z",
     "iopub.status.busy": "2025-01-31T23:37:23.193765Z",
     "iopub.status.idle": "2025-01-31T23:37:23.201339Z",
     "shell.execute_reply": "2025-01-31T23:37:23.200454Z"
    },
    "papermill": {
     "duration": 0.016595,
     "end_time": "2025-01-31T23:37:23.202462",
     "exception": false,
     "start_time": "2025-01-31T23:37:23.185867",
     "status": "completed"
    },
    "tags": []
   },
   "outputs": [],
   "source": [
    "\n",
    "def train_step(model:torch.nn.Module,data_loader:torch.utils.data.DataLoader,loss_fn:torch.nn.Module,optimizer:torch.optim.Optimizer,accuracy_fn,device:torch.device):\n",
    "    from timeit import default_timer as timer\n",
    "    torch.cuda.manual_seed(42)\n",
    "    train_time_start = timer()\n",
    "    train_loss,train_acc=0,0\n",
    "    model.train()\n",
    "    for image, y in data_loader:\n",
    "        image,y=image.to(device),y.to(device)#.long()\n",
    "        y_pred = model.forward(image)\n",
    "        loss= loss_fn(y_pred, y)\n",
    "        train_loss+=loss\n",
    "        train_acc+=accuracy_fn(y,y_pred.argmax(dim=1))\n",
    "        \n",
    "        optimizer.zero_grad()\n",
    "        loss.backward()\n",
    "        optimizer.step()\n",
    "    #scheduler.step()\n",
    "        \n",
    "    train_loss /= len(data_loader)\n",
    "    train_acc/=len(data_loader)\n",
    "    \n",
    "    \n",
    "    train_time_end = timer()                   #Learning Rate :{scheduler.get_last_lr()[0]:.3f}\n",
    "    \n",
    "    print(f\"\\033[92mTrain_loss:{train_loss:.4f}%\\n Train_acc:{train_acc:.4f}%\\nDevice is on {device}\\nTime passed for training:{train_time_end-train_time_start:.2f}s\\033[0m\")\n",
    "    return train_loss,train_acc\n",
    "\n",
    "def test_step(model:torch.nn.Module,dataloader:torch.utils.data.DataLoader,loss_fn:torch.nn.Module,accuracy_fn,device:torch.device):\n",
    "    from timeit import default_timer as timer \n",
    "    torch.cuda.manual_seed(42)\n",
    "    \n",
    "    model.eval()\n",
    "    test_loss,test_acc=0,0\n",
    "    with torch.inference_mode():\n",
    "        test_time_start = timer()\n",
    "        for image,y in dataloader:\n",
    "            image,y=image.to(device),y.to(device)\n",
    "            test_pred=model(image)\n",
    "            test_loss+=loss_fn(test_pred,y)\n",
    "            test_acc+=accuracy_fn(y,test_pred.argmax(dim=1))\n",
    "            \n",
    "        test_loss /= len(dataloader)\n",
    "        test_acc/=len(dataloader)\n",
    "        \n",
    "        test_time_end=timer()\n",
    "        print(f\"\\033[94mTest loss is-->{test_loss:.4f}%\\nTest acc is-->{test_acc:.4f}%\\nDevice is on {str(next(model.parameters()).device)}\\nTime passed for testing:{test_time_end-test_time_start:.2f}s\\033[0m\")\n",
    "\n",
    "        return test_loss,test_acc\n"
   ]
  },
  {
   "cell_type": "code",
   "execution_count": 15,
   "id": "42e93da2",
   "metadata": {
    "execution": {
     "iopub.execute_input": "2025-01-31T23:37:23.218034Z",
     "iopub.status.busy": "2025-01-31T23:37:23.217816Z",
     "iopub.status.idle": "2025-01-31T23:39:29.620843Z",
     "shell.execute_reply": "2025-01-31T23:39:29.619909Z"
    },
    "papermill": {
     "duration": 126.412391,
     "end_time": "2025-01-31T23:39:29.622434",
     "exception": false,
     "start_time": "2025-01-31T23:37:23.210043",
     "status": "completed"
    },
    "tags": []
   },
   "outputs": [
    {
     "data": {
      "application/vnd.jupyter.widget-view+json": {
       "model_id": "da1bc00c48ac4bef8c99bca8bd92f4c6",
       "version_major": 2,
       "version_minor": 0
      },
      "text/plain": [
       "  0%|          | 0/7 [00:00<?, ?it/s]"
      ]
     },
     "metadata": {},
     "output_type": "display_data"
    },
    {
     "name": "stdout",
     "output_type": "stream",
     "text": [
      "Epoch 0\n",
      "\u001b[92mTrain_loss:0.4243%\n",
      " Train_acc:0.8721%\n",
      "Device is on cuda:0\n",
      "Time passed for training:17.31s\u001b[0m\n",
      "\u001b[94mTest loss is-->0.0622%\n",
      "Test acc is-->0.9798%\n",
      "Device is on cuda:0\n",
      "Time passed for testing:1.85s\u001b[0m\n",
      "------------------------\n",
      "Epoch 1\n",
      "\u001b[92mTrain_loss:0.1314%\n",
      " Train_acc:0.9617%\n",
      "Device is on cuda:0\n",
      "Time passed for training:15.97s\u001b[0m\n",
      "\u001b[94mTest loss is-->0.0593%\n",
      "Test acc is-->0.9820%\n",
      "Device is on cuda:0\n",
      "Time passed for testing:1.91s\u001b[0m\n",
      "------------------------\n",
      "Epoch 2\n",
      "\u001b[92mTrain_loss:0.0936%\n",
      " Train_acc:0.9723%\n",
      "Device is on cuda:0\n",
      "Time passed for training:16.06s\u001b[0m\n",
      "\u001b[94mTest loss is-->0.0389%\n",
      "Test acc is-->0.9875%\n",
      "Device is on cuda:0\n",
      "Time passed for testing:1.83s\u001b[0m\n",
      "------------------------\n",
      "Epoch 3\n",
      "\u001b[92mTrain_loss:0.0764%\n",
      " Train_acc:0.9779%\n",
      "Device is on cuda:0\n",
      "Time passed for training:15.93s\u001b[0m\n",
      "\u001b[94mTest loss is-->0.0315%\n",
      "Test acc is-->0.9908%\n",
      "Device is on cuda:0\n",
      "Time passed for testing:1.87s\u001b[0m\n",
      "------------------------\n",
      "Epoch 4\n",
      "\u001b[92mTrain_loss:0.0667%\n",
      " Train_acc:0.9802%\n",
      "Device is on cuda:0\n",
      "Time passed for training:15.97s\u001b[0m\n",
      "\u001b[94mTest loss is-->0.0245%\n",
      "Test acc is-->0.9923%\n",
      "Device is on cuda:0\n",
      "Time passed for testing:1.84s\u001b[0m\n",
      "------------------------\n",
      "Epoch 5\n",
      "\u001b[92mTrain_loss:0.0574%\n",
      " Train_acc:0.9826%\n",
      "Device is on cuda:0\n",
      "Time passed for training:16.01s\u001b[0m\n",
      "\u001b[94mTest loss is-->0.0216%\n",
      "Test acc is-->0.9931%\n",
      "Device is on cuda:0\n",
      "Time passed for testing:1.83s\u001b[0m\n",
      "------------------------\n",
      "Epoch 6\n",
      "\u001b[92mTrain_loss:0.0525%\n",
      " Train_acc:0.9849%\n",
      "Device is on cuda:0\n",
      "Time passed for training:15.95s\u001b[0m\n",
      "\u001b[94mTest loss is-->0.0205%\n",
      "Test acc is-->0.9931%\n",
      "Device is on cuda:0\n",
      "Time passed for testing:1.85s\u001b[0m\n",
      "------------------------\n",
      "Total time passed :\u001b[91m126.3964s\u001b[0m\n"
     ]
    }
   ],
   "source": [
    "from tqdm.auto import tqdm\n",
    "from timeit import default_timer as timer \n",
    "\n",
    "torch.cuda.manual_seed(42)\n",
    "epochs=7\n",
    "train_accuracies=[]\n",
    "train_losses=[]\n",
    "test_accuracies=[]\n",
    "test_losses=[]\n",
    "time_start = timer()\n",
    "for epoch in tqdm(range(epochs)):\n",
    "    print(f\"Epoch {epoch}\")\n",
    "    train_loss,train_acc=train_step(model,train_dataloader,loss_fn,optimizer,accuracy,device=str(next(model.parameters()).device))\n",
    "    test_loss,test_acc=test_step(model,test_dataloader,loss_fn,accuracy,device=str(next(model.parameters()).device))\n",
    "\n",
    "    train_losses.append(train_loss.item())\n",
    "    train_accuracies.append(train_acc.item())\n",
    "    test_losses.append(test_loss.item())\n",
    "    test_accuracies.append(test_acc.item())\n",
    "    print(f\"------------------------\")\n",
    "time_end=timer()\n",
    "print(f'Total time passed :\\033[91m{time_end-time_start:.4f}s\\033[0m')"
   ]
  },
  {
   "cell_type": "code",
   "execution_count": 16,
   "id": "459f5683",
   "metadata": {
    "execution": {
     "iopub.execute_input": "2025-01-31T23:39:29.641130Z",
     "iopub.status.busy": "2025-01-31T23:39:29.640891Z",
     "iopub.status.idle": "2025-01-31T23:39:31.183768Z",
     "shell.execute_reply": "2025-01-31T23:39:31.182869Z"
    },
    "papermill": {
     "duration": 1.553581,
     "end_time": "2025-01-31T23:39:31.185236",
     "exception": false,
     "start_time": "2025-01-31T23:39:29.631655",
     "status": "completed"
    },
    "tags": []
   },
   "outputs": [
    {
     "data": {
      "text/html": [
       "<html>\n",
       "<head><meta charset=\"utf-8\" /></head>\n",
       "<body>\n",
       "    <div>            <script src=\"https://cdnjs.cloudflare.com/ajax/libs/mathjax/2.7.5/MathJax.js?config=TeX-AMS-MML_SVG\"></script><script type=\"text/javascript\">if (window.MathJax && window.MathJax.Hub && window.MathJax.Hub.Config) {window.MathJax.Hub.Config({SVG: {font: \"STIX-Web\"}});}</script>                <script type=\"text/javascript\">window.PlotlyConfig = {MathJaxConfig: 'local'};</script>\n",
       "        <script charset=\"utf-8\" src=\"https://cdn.plot.ly/plotly-2.35.2.min.js\"></script>                <div id=\"3aaf8fb7-a7b2-46d9-ad36-ed5586ebcdec\" class=\"plotly-graph-div\" style=\"height:525px; width:100%;\"></div>            <script type=\"text/javascript\">                                    window.PLOTLYENV=window.PLOTLYENV || {};                                    if (document.getElementById(\"3aaf8fb7-a7b2-46d9-ad36-ed5586ebcdec\")) {                    Plotly.newPlot(                        \"3aaf8fb7-a7b2-46d9-ad36-ed5586ebcdec\",                        [{\"line\":{\"color\":\"royalblue\"},\"mode\":\"lines+markers\",\"name\":\"Train Acc\",\"x\":[1,2,3,4,5,6,7],\"y\":[0.8721333146095276,0.9617166519165039,0.9723333716392517,0.9778833389282227,0.9801999926567078,0.982616662979126,0.9849333167076111],\"type\":\"scatter\"},{\"line\":{\"color\":\"orange\"},\"mode\":\"lines+markers\",\"name\":\"Test Acc\",\"x\":[1,2,3,4,5,6,7],\"y\":[0.9798322319984436,0.9820287227630615,0.9875199794769287,0.9908146858215332,0.9923123121261597,0.9931110143661499,0.9931110143661499],\"type\":\"scatter\"}],                        {\"template\":{\"data\":{\"barpolar\":[{\"marker\":{\"line\":{\"color\":\"white\",\"width\":0.5},\"pattern\":{\"fillmode\":\"overlay\",\"size\":10,\"solidity\":0.2}},\"type\":\"barpolar\"}],\"bar\":[{\"error_x\":{\"color\":\"#2a3f5f\"},\"error_y\":{\"color\":\"#2a3f5f\"},\"marker\":{\"line\":{\"color\":\"white\",\"width\":0.5},\"pattern\":{\"fillmode\":\"overlay\",\"size\":10,\"solidity\":0.2}},\"type\":\"bar\"}],\"carpet\":[{\"aaxis\":{\"endlinecolor\":\"#2a3f5f\",\"gridcolor\":\"#C8D4E3\",\"linecolor\":\"#C8D4E3\",\"minorgridcolor\":\"#C8D4E3\",\"startlinecolor\":\"#2a3f5f\"},\"baxis\":{\"endlinecolor\":\"#2a3f5f\",\"gridcolor\":\"#C8D4E3\",\"linecolor\":\"#C8D4E3\",\"minorgridcolor\":\"#C8D4E3\",\"startlinecolor\":\"#2a3f5f\"},\"type\":\"carpet\"}],\"choropleth\":[{\"colorbar\":{\"outlinewidth\":0,\"ticks\":\"\"},\"type\":\"choropleth\"}],\"contourcarpet\":[{\"colorbar\":{\"outlinewidth\":0,\"ticks\":\"\"},\"type\":\"contourcarpet\"}],\"contour\":[{\"colorbar\":{\"outlinewidth\":0,\"ticks\":\"\"},\"colorscale\":[[0.0,\"#0d0887\"],[0.1111111111111111,\"#46039f\"],[0.2222222222222222,\"#7201a8\"],[0.3333333333333333,\"#9c179e\"],[0.4444444444444444,\"#bd3786\"],[0.5555555555555556,\"#d8576b\"],[0.6666666666666666,\"#ed7953\"],[0.7777777777777778,\"#fb9f3a\"],[0.8888888888888888,\"#fdca26\"],[1.0,\"#f0f921\"]],\"type\":\"contour\"}],\"heatmapgl\":[{\"colorbar\":{\"outlinewidth\":0,\"ticks\":\"\"},\"colorscale\":[[0.0,\"#0d0887\"],[0.1111111111111111,\"#46039f\"],[0.2222222222222222,\"#7201a8\"],[0.3333333333333333,\"#9c179e\"],[0.4444444444444444,\"#bd3786\"],[0.5555555555555556,\"#d8576b\"],[0.6666666666666666,\"#ed7953\"],[0.7777777777777778,\"#fb9f3a\"],[0.8888888888888888,\"#fdca26\"],[1.0,\"#f0f921\"]],\"type\":\"heatmapgl\"}],\"heatmap\":[{\"colorbar\":{\"outlinewidth\":0,\"ticks\":\"\"},\"colorscale\":[[0.0,\"#0d0887\"],[0.1111111111111111,\"#46039f\"],[0.2222222222222222,\"#7201a8\"],[0.3333333333333333,\"#9c179e\"],[0.4444444444444444,\"#bd3786\"],[0.5555555555555556,\"#d8576b\"],[0.6666666666666666,\"#ed7953\"],[0.7777777777777778,\"#fb9f3a\"],[0.8888888888888888,\"#fdca26\"],[1.0,\"#f0f921\"]],\"type\":\"heatmap\"}],\"histogram2dcontour\":[{\"colorbar\":{\"outlinewidth\":0,\"ticks\":\"\"},\"colorscale\":[[0.0,\"#0d0887\"],[0.1111111111111111,\"#46039f\"],[0.2222222222222222,\"#7201a8\"],[0.3333333333333333,\"#9c179e\"],[0.4444444444444444,\"#bd3786\"],[0.5555555555555556,\"#d8576b\"],[0.6666666666666666,\"#ed7953\"],[0.7777777777777778,\"#fb9f3a\"],[0.8888888888888888,\"#fdca26\"],[1.0,\"#f0f921\"]],\"type\":\"histogram2dcontour\"}],\"histogram2d\":[{\"colorbar\":{\"outlinewidth\":0,\"ticks\":\"\"},\"colorscale\":[[0.0,\"#0d0887\"],[0.1111111111111111,\"#46039f\"],[0.2222222222222222,\"#7201a8\"],[0.3333333333333333,\"#9c179e\"],[0.4444444444444444,\"#bd3786\"],[0.5555555555555556,\"#d8576b\"],[0.6666666666666666,\"#ed7953\"],[0.7777777777777778,\"#fb9f3a\"],[0.8888888888888888,\"#fdca26\"],[1.0,\"#f0f921\"]],\"type\":\"histogram2d\"}],\"histogram\":[{\"marker\":{\"pattern\":{\"fillmode\":\"overlay\",\"size\":10,\"solidity\":0.2}},\"type\":\"histogram\"}],\"mesh3d\":[{\"colorbar\":{\"outlinewidth\":0,\"ticks\":\"\"},\"type\":\"mesh3d\"}],\"parcoords\":[{\"line\":{\"colorbar\":{\"outlinewidth\":0,\"ticks\":\"\"}},\"type\":\"parcoords\"}],\"pie\":[{\"automargin\":true,\"type\":\"pie\"}],\"scatter3d\":[{\"line\":{\"colorbar\":{\"outlinewidth\":0,\"ticks\":\"\"}},\"marker\":{\"colorbar\":{\"outlinewidth\":0,\"ticks\":\"\"}},\"type\":\"scatter3d\"}],\"scattercarpet\":[{\"marker\":{\"colorbar\":{\"outlinewidth\":0,\"ticks\":\"\"}},\"type\":\"scattercarpet\"}],\"scattergeo\":[{\"marker\":{\"colorbar\":{\"outlinewidth\":0,\"ticks\":\"\"}},\"type\":\"scattergeo\"}],\"scattergl\":[{\"marker\":{\"colorbar\":{\"outlinewidth\":0,\"ticks\":\"\"}},\"type\":\"scattergl\"}],\"scattermapbox\":[{\"marker\":{\"colorbar\":{\"outlinewidth\":0,\"ticks\":\"\"}},\"type\":\"scattermapbox\"}],\"scatterpolargl\":[{\"marker\":{\"colorbar\":{\"outlinewidth\":0,\"ticks\":\"\"}},\"type\":\"scatterpolargl\"}],\"scatterpolar\":[{\"marker\":{\"colorbar\":{\"outlinewidth\":0,\"ticks\":\"\"}},\"type\":\"scatterpolar\"}],\"scatter\":[{\"fillpattern\":{\"fillmode\":\"overlay\",\"size\":10,\"solidity\":0.2},\"type\":\"scatter\"}],\"scatterternary\":[{\"marker\":{\"colorbar\":{\"outlinewidth\":0,\"ticks\":\"\"}},\"type\":\"scatterternary\"}],\"surface\":[{\"colorbar\":{\"outlinewidth\":0,\"ticks\":\"\"},\"colorscale\":[[0.0,\"#0d0887\"],[0.1111111111111111,\"#46039f\"],[0.2222222222222222,\"#7201a8\"],[0.3333333333333333,\"#9c179e\"],[0.4444444444444444,\"#bd3786\"],[0.5555555555555556,\"#d8576b\"],[0.6666666666666666,\"#ed7953\"],[0.7777777777777778,\"#fb9f3a\"],[0.8888888888888888,\"#fdca26\"],[1.0,\"#f0f921\"]],\"type\":\"surface\"}],\"table\":[{\"cells\":{\"fill\":{\"color\":\"#EBF0F8\"},\"line\":{\"color\":\"white\"}},\"header\":{\"fill\":{\"color\":\"#C8D4E3\"},\"line\":{\"color\":\"white\"}},\"type\":\"table\"}]},\"layout\":{\"annotationdefaults\":{\"arrowcolor\":\"#2a3f5f\",\"arrowhead\":0,\"arrowwidth\":1},\"autotypenumbers\":\"strict\",\"coloraxis\":{\"colorbar\":{\"outlinewidth\":0,\"ticks\":\"\"}},\"colorscale\":{\"diverging\":[[0,\"#8e0152\"],[0.1,\"#c51b7d\"],[0.2,\"#de77ae\"],[0.3,\"#f1b6da\"],[0.4,\"#fde0ef\"],[0.5,\"#f7f7f7\"],[0.6,\"#e6f5d0\"],[0.7,\"#b8e186\"],[0.8,\"#7fbc41\"],[0.9,\"#4d9221\"],[1,\"#276419\"]],\"sequential\":[[0.0,\"#0d0887\"],[0.1111111111111111,\"#46039f\"],[0.2222222222222222,\"#7201a8\"],[0.3333333333333333,\"#9c179e\"],[0.4444444444444444,\"#bd3786\"],[0.5555555555555556,\"#d8576b\"],[0.6666666666666666,\"#ed7953\"],[0.7777777777777778,\"#fb9f3a\"],[0.8888888888888888,\"#fdca26\"],[1.0,\"#f0f921\"]],\"sequentialminus\":[[0.0,\"#0d0887\"],[0.1111111111111111,\"#46039f\"],[0.2222222222222222,\"#7201a8\"],[0.3333333333333333,\"#9c179e\"],[0.4444444444444444,\"#bd3786\"],[0.5555555555555556,\"#d8576b\"],[0.6666666666666666,\"#ed7953\"],[0.7777777777777778,\"#fb9f3a\"],[0.8888888888888888,\"#fdca26\"],[1.0,\"#f0f921\"]]},\"colorway\":[\"#636efa\",\"#EF553B\",\"#00cc96\",\"#ab63fa\",\"#FFA15A\",\"#19d3f3\",\"#FF6692\",\"#B6E880\",\"#FF97FF\",\"#FECB52\"],\"font\":{\"color\":\"#2a3f5f\"},\"geo\":{\"bgcolor\":\"white\",\"lakecolor\":\"white\",\"landcolor\":\"white\",\"showlakes\":true,\"showland\":true,\"subunitcolor\":\"#C8D4E3\"},\"hoverlabel\":{\"align\":\"left\"},\"hovermode\":\"closest\",\"mapbox\":{\"style\":\"light\"},\"paper_bgcolor\":\"white\",\"plot_bgcolor\":\"white\",\"polar\":{\"angularaxis\":{\"gridcolor\":\"#EBF0F8\",\"linecolor\":\"#EBF0F8\",\"ticks\":\"\"},\"bgcolor\":\"white\",\"radialaxis\":{\"gridcolor\":\"#EBF0F8\",\"linecolor\":\"#EBF0F8\",\"ticks\":\"\"}},\"scene\":{\"xaxis\":{\"backgroundcolor\":\"white\",\"gridcolor\":\"#DFE8F3\",\"gridwidth\":2,\"linecolor\":\"#EBF0F8\",\"showbackground\":true,\"ticks\":\"\",\"zerolinecolor\":\"#EBF0F8\"},\"yaxis\":{\"backgroundcolor\":\"white\",\"gridcolor\":\"#DFE8F3\",\"gridwidth\":2,\"linecolor\":\"#EBF0F8\",\"showbackground\":true,\"ticks\":\"\",\"zerolinecolor\":\"#EBF0F8\"},\"zaxis\":{\"backgroundcolor\":\"white\",\"gridcolor\":\"#DFE8F3\",\"gridwidth\":2,\"linecolor\":\"#EBF0F8\",\"showbackground\":true,\"ticks\":\"\",\"zerolinecolor\":\"#EBF0F8\"}},\"shapedefaults\":{\"line\":{\"color\":\"#2a3f5f\"}},\"ternary\":{\"aaxis\":{\"gridcolor\":\"#DFE8F3\",\"linecolor\":\"#A2B1C6\",\"ticks\":\"\"},\"baxis\":{\"gridcolor\":\"#DFE8F3\",\"linecolor\":\"#A2B1C6\",\"ticks\":\"\"},\"bgcolor\":\"white\",\"caxis\":{\"gridcolor\":\"#DFE8F3\",\"linecolor\":\"#A2B1C6\",\"ticks\":\"\"}},\"title\":{\"x\":0.05},\"xaxis\":{\"automargin\":true,\"gridcolor\":\"#EBF0F8\",\"linecolor\":\"#EBF0F8\",\"ticks\":\"\",\"title\":{\"standoff\":15},\"zerolinecolor\":\"#EBF0F8\",\"zerolinewidth\":2},\"yaxis\":{\"automargin\":true,\"gridcolor\":\"#EBF0F8\",\"linecolor\":\"#EBF0F8\",\"ticks\":\"\",\"title\":{\"standoff\":15},\"zerolinecolor\":\"#EBF0F8\",\"zerolinewidth\":2}}},\"title\":{\"text\":\"Train and Test Accuracy per Epoch\"},\"xaxis\":{\"title\":{\"text\":\"Epochs\"}},\"yaxis\":{\"title\":{\"text\":\"Accuracy\"}}},                        {\"responsive\": true}                    ).then(function(){\n",
       "                            \n",
       "var gd = document.getElementById('3aaf8fb7-a7b2-46d9-ad36-ed5586ebcdec');\n",
       "var x = new MutationObserver(function (mutations, observer) {{\n",
       "        var display = window.getComputedStyle(gd).display;\n",
       "        if (!display || display === 'none') {{\n",
       "            console.log([gd, 'removed!']);\n",
       "            Plotly.purge(gd);\n",
       "            observer.disconnect();\n",
       "        }}\n",
       "}});\n",
       "\n",
       "// Listen for the removal of the full notebook cells\n",
       "var notebookContainer = gd.closest('#notebook-container');\n",
       "if (notebookContainer) {{\n",
       "    x.observe(notebookContainer, {childList: true});\n",
       "}}\n",
       "\n",
       "// Listen for the clearing of the current output cell\n",
       "var outputEl = gd.closest('.output');\n",
       "if (outputEl) {{\n",
       "    x.observe(outputEl, {childList: true});\n",
       "}}\n",
       "\n",
       "                        })                };                            </script>        </div>\n",
       "</body>\n",
       "</html>"
      ]
     },
     "metadata": {},
     "output_type": "display_data"
    }
   ],
   "source": [
    "import plotly.graph_objects as go\n",
    "\n",
    "epochs=list(range(1,len(train_accuracies)+1))\n",
    "\n",
    "\n",
    "train=go.Scatter(x=epochs,\n",
    "                 y=train_accuracies,\n",
    "                 mode='lines+markers',\n",
    "                 name='Train Acc',line=dict(color='royalblue'))\n",
    "\n",
    "\n",
    "\n",
    "test=go.Scatter(x=epochs,\n",
    "                 y=test_accuracies,\n",
    "                 mode='lines+markers',\n",
    "                 name='Test Acc',line=dict(color='orange'))\n",
    "\n",
    "figure=go.Figure(data=[train,test])\n",
    "figure.update_layout(title='Train and Test Accuracy per Epoch',\n",
    "                    xaxis_title='Epochs',\n",
    "                    yaxis_title='Accuracy',\n",
    "                    template='plotly_white')\n",
    "\n",
    "figure.show()"
   ]
  },
  {
   "cell_type": "code",
   "execution_count": 17,
   "id": "2943832b",
   "metadata": {
    "execution": {
     "iopub.execute_input": "2025-01-31T23:39:31.205182Z",
     "iopub.status.busy": "2025-01-31T23:39:31.204953Z",
     "iopub.status.idle": "2025-01-31T23:39:31.231998Z",
     "shell.execute_reply": "2025-01-31T23:39:31.231138Z"
    },
    "papermill": {
     "duration": 0.038387,
     "end_time": "2025-01-31T23:39:31.233313",
     "exception": false,
     "start_time": "2025-01-31T23:39:31.194926",
     "status": "completed"
    },
    "tags": []
   },
   "outputs": [
    {
     "data": {
      "text/html": [
       "<html>\n",
       "<head><meta charset=\"utf-8\" /></head>\n",
       "<body>\n",
       "    <div>            <script src=\"https://cdnjs.cloudflare.com/ajax/libs/mathjax/2.7.5/MathJax.js?config=TeX-AMS-MML_SVG\"></script><script type=\"text/javascript\">if (window.MathJax && window.MathJax.Hub && window.MathJax.Hub.Config) {window.MathJax.Hub.Config({SVG: {font: \"STIX-Web\"}});}</script>                <script type=\"text/javascript\">window.PlotlyConfig = {MathJaxConfig: 'local'};</script>\n",
       "        <script charset=\"utf-8\" src=\"https://cdn.plot.ly/plotly-2.35.2.min.js\"></script>                <div id=\"1e0e4148-7043-4e82-8fbd-86279ecd2bd6\" class=\"plotly-graph-div\" style=\"height:525px; width:100%;\"></div>            <script type=\"text/javascript\">                                    window.PLOTLYENV=window.PLOTLYENV || {};                                    if (document.getElementById(\"1e0e4148-7043-4e82-8fbd-86279ecd2bd6\")) {                    Plotly.newPlot(                        \"1e0e4148-7043-4e82-8fbd-86279ecd2bd6\",                        [{\"line\":{\"color\":\"red\"},\"mode\":\"lines+markers\",\"name\":\"Train Loss\",\"x\":[1,2,3,4,5,6,7],\"y\":[0.42425376176834106,0.13135720789432526,0.0936347022652626,0.07636184990406036,0.06668069213628769,0.057374440133571625,0.05249560624361038],\"type\":\"scatter\"},{\"line\":{\"color\":\"black\"},\"mode\":\"lines+markers\",\"name\":\"Test Loss\",\"x\":[1,2,3,4,5,6,7],\"y\":[0.0621790885925293,0.05932711064815521,0.038949672132730484,0.03145849332213402,0.024549322202801704,0.02160722389817238,0.02050759643316269],\"type\":\"scatter\"}],                        {\"template\":{\"data\":{\"barpolar\":[{\"marker\":{\"line\":{\"color\":\"white\",\"width\":0.5},\"pattern\":{\"fillmode\":\"overlay\",\"size\":10,\"solidity\":0.2}},\"type\":\"barpolar\"}],\"bar\":[{\"error_x\":{\"color\":\"#2a3f5f\"},\"error_y\":{\"color\":\"#2a3f5f\"},\"marker\":{\"line\":{\"color\":\"white\",\"width\":0.5},\"pattern\":{\"fillmode\":\"overlay\",\"size\":10,\"solidity\":0.2}},\"type\":\"bar\"}],\"carpet\":[{\"aaxis\":{\"endlinecolor\":\"#2a3f5f\",\"gridcolor\":\"#C8D4E3\",\"linecolor\":\"#C8D4E3\",\"minorgridcolor\":\"#C8D4E3\",\"startlinecolor\":\"#2a3f5f\"},\"baxis\":{\"endlinecolor\":\"#2a3f5f\",\"gridcolor\":\"#C8D4E3\",\"linecolor\":\"#C8D4E3\",\"minorgridcolor\":\"#C8D4E3\",\"startlinecolor\":\"#2a3f5f\"},\"type\":\"carpet\"}],\"choropleth\":[{\"colorbar\":{\"outlinewidth\":0,\"ticks\":\"\"},\"type\":\"choropleth\"}],\"contourcarpet\":[{\"colorbar\":{\"outlinewidth\":0,\"ticks\":\"\"},\"type\":\"contourcarpet\"}],\"contour\":[{\"colorbar\":{\"outlinewidth\":0,\"ticks\":\"\"},\"colorscale\":[[0.0,\"#0d0887\"],[0.1111111111111111,\"#46039f\"],[0.2222222222222222,\"#7201a8\"],[0.3333333333333333,\"#9c179e\"],[0.4444444444444444,\"#bd3786\"],[0.5555555555555556,\"#d8576b\"],[0.6666666666666666,\"#ed7953\"],[0.7777777777777778,\"#fb9f3a\"],[0.8888888888888888,\"#fdca26\"],[1.0,\"#f0f921\"]],\"type\":\"contour\"}],\"heatmapgl\":[{\"colorbar\":{\"outlinewidth\":0,\"ticks\":\"\"},\"colorscale\":[[0.0,\"#0d0887\"],[0.1111111111111111,\"#46039f\"],[0.2222222222222222,\"#7201a8\"],[0.3333333333333333,\"#9c179e\"],[0.4444444444444444,\"#bd3786\"],[0.5555555555555556,\"#d8576b\"],[0.6666666666666666,\"#ed7953\"],[0.7777777777777778,\"#fb9f3a\"],[0.8888888888888888,\"#fdca26\"],[1.0,\"#f0f921\"]],\"type\":\"heatmapgl\"}],\"heatmap\":[{\"colorbar\":{\"outlinewidth\":0,\"ticks\":\"\"},\"colorscale\":[[0.0,\"#0d0887\"],[0.1111111111111111,\"#46039f\"],[0.2222222222222222,\"#7201a8\"],[0.3333333333333333,\"#9c179e\"],[0.4444444444444444,\"#bd3786\"],[0.5555555555555556,\"#d8576b\"],[0.6666666666666666,\"#ed7953\"],[0.7777777777777778,\"#fb9f3a\"],[0.8888888888888888,\"#fdca26\"],[1.0,\"#f0f921\"]],\"type\":\"heatmap\"}],\"histogram2dcontour\":[{\"colorbar\":{\"outlinewidth\":0,\"ticks\":\"\"},\"colorscale\":[[0.0,\"#0d0887\"],[0.1111111111111111,\"#46039f\"],[0.2222222222222222,\"#7201a8\"],[0.3333333333333333,\"#9c179e\"],[0.4444444444444444,\"#bd3786\"],[0.5555555555555556,\"#d8576b\"],[0.6666666666666666,\"#ed7953\"],[0.7777777777777778,\"#fb9f3a\"],[0.8888888888888888,\"#fdca26\"],[1.0,\"#f0f921\"]],\"type\":\"histogram2dcontour\"}],\"histogram2d\":[{\"colorbar\":{\"outlinewidth\":0,\"ticks\":\"\"},\"colorscale\":[[0.0,\"#0d0887\"],[0.1111111111111111,\"#46039f\"],[0.2222222222222222,\"#7201a8\"],[0.3333333333333333,\"#9c179e\"],[0.4444444444444444,\"#bd3786\"],[0.5555555555555556,\"#d8576b\"],[0.6666666666666666,\"#ed7953\"],[0.7777777777777778,\"#fb9f3a\"],[0.8888888888888888,\"#fdca26\"],[1.0,\"#f0f921\"]],\"type\":\"histogram2d\"}],\"histogram\":[{\"marker\":{\"pattern\":{\"fillmode\":\"overlay\",\"size\":10,\"solidity\":0.2}},\"type\":\"histogram\"}],\"mesh3d\":[{\"colorbar\":{\"outlinewidth\":0,\"ticks\":\"\"},\"type\":\"mesh3d\"}],\"parcoords\":[{\"line\":{\"colorbar\":{\"outlinewidth\":0,\"ticks\":\"\"}},\"type\":\"parcoords\"}],\"pie\":[{\"automargin\":true,\"type\":\"pie\"}],\"scatter3d\":[{\"line\":{\"colorbar\":{\"outlinewidth\":0,\"ticks\":\"\"}},\"marker\":{\"colorbar\":{\"outlinewidth\":0,\"ticks\":\"\"}},\"type\":\"scatter3d\"}],\"scattercarpet\":[{\"marker\":{\"colorbar\":{\"outlinewidth\":0,\"ticks\":\"\"}},\"type\":\"scattercarpet\"}],\"scattergeo\":[{\"marker\":{\"colorbar\":{\"outlinewidth\":0,\"ticks\":\"\"}},\"type\":\"scattergeo\"}],\"scattergl\":[{\"marker\":{\"colorbar\":{\"outlinewidth\":0,\"ticks\":\"\"}},\"type\":\"scattergl\"}],\"scattermapbox\":[{\"marker\":{\"colorbar\":{\"outlinewidth\":0,\"ticks\":\"\"}},\"type\":\"scattermapbox\"}],\"scatterpolargl\":[{\"marker\":{\"colorbar\":{\"outlinewidth\":0,\"ticks\":\"\"}},\"type\":\"scatterpolargl\"}],\"scatterpolar\":[{\"marker\":{\"colorbar\":{\"outlinewidth\":0,\"ticks\":\"\"}},\"type\":\"scatterpolar\"}],\"scatter\":[{\"fillpattern\":{\"fillmode\":\"overlay\",\"size\":10,\"solidity\":0.2},\"type\":\"scatter\"}],\"scatterternary\":[{\"marker\":{\"colorbar\":{\"outlinewidth\":0,\"ticks\":\"\"}},\"type\":\"scatterternary\"}],\"surface\":[{\"colorbar\":{\"outlinewidth\":0,\"ticks\":\"\"},\"colorscale\":[[0.0,\"#0d0887\"],[0.1111111111111111,\"#46039f\"],[0.2222222222222222,\"#7201a8\"],[0.3333333333333333,\"#9c179e\"],[0.4444444444444444,\"#bd3786\"],[0.5555555555555556,\"#d8576b\"],[0.6666666666666666,\"#ed7953\"],[0.7777777777777778,\"#fb9f3a\"],[0.8888888888888888,\"#fdca26\"],[1.0,\"#f0f921\"]],\"type\":\"surface\"}],\"table\":[{\"cells\":{\"fill\":{\"color\":\"#EBF0F8\"},\"line\":{\"color\":\"white\"}},\"header\":{\"fill\":{\"color\":\"#C8D4E3\"},\"line\":{\"color\":\"white\"}},\"type\":\"table\"}]},\"layout\":{\"annotationdefaults\":{\"arrowcolor\":\"#2a3f5f\",\"arrowhead\":0,\"arrowwidth\":1},\"autotypenumbers\":\"strict\",\"coloraxis\":{\"colorbar\":{\"outlinewidth\":0,\"ticks\":\"\"}},\"colorscale\":{\"diverging\":[[0,\"#8e0152\"],[0.1,\"#c51b7d\"],[0.2,\"#de77ae\"],[0.3,\"#f1b6da\"],[0.4,\"#fde0ef\"],[0.5,\"#f7f7f7\"],[0.6,\"#e6f5d0\"],[0.7,\"#b8e186\"],[0.8,\"#7fbc41\"],[0.9,\"#4d9221\"],[1,\"#276419\"]],\"sequential\":[[0.0,\"#0d0887\"],[0.1111111111111111,\"#46039f\"],[0.2222222222222222,\"#7201a8\"],[0.3333333333333333,\"#9c179e\"],[0.4444444444444444,\"#bd3786\"],[0.5555555555555556,\"#d8576b\"],[0.6666666666666666,\"#ed7953\"],[0.7777777777777778,\"#fb9f3a\"],[0.8888888888888888,\"#fdca26\"],[1.0,\"#f0f921\"]],\"sequentialminus\":[[0.0,\"#0d0887\"],[0.1111111111111111,\"#46039f\"],[0.2222222222222222,\"#7201a8\"],[0.3333333333333333,\"#9c179e\"],[0.4444444444444444,\"#bd3786\"],[0.5555555555555556,\"#d8576b\"],[0.6666666666666666,\"#ed7953\"],[0.7777777777777778,\"#fb9f3a\"],[0.8888888888888888,\"#fdca26\"],[1.0,\"#f0f921\"]]},\"colorway\":[\"#636efa\",\"#EF553B\",\"#00cc96\",\"#ab63fa\",\"#FFA15A\",\"#19d3f3\",\"#FF6692\",\"#B6E880\",\"#FF97FF\",\"#FECB52\"],\"font\":{\"color\":\"#2a3f5f\"},\"geo\":{\"bgcolor\":\"white\",\"lakecolor\":\"white\",\"landcolor\":\"white\",\"showlakes\":true,\"showland\":true,\"subunitcolor\":\"#C8D4E3\"},\"hoverlabel\":{\"align\":\"left\"},\"hovermode\":\"closest\",\"mapbox\":{\"style\":\"light\"},\"paper_bgcolor\":\"white\",\"plot_bgcolor\":\"white\",\"polar\":{\"angularaxis\":{\"gridcolor\":\"#EBF0F8\",\"linecolor\":\"#EBF0F8\",\"ticks\":\"\"},\"bgcolor\":\"white\",\"radialaxis\":{\"gridcolor\":\"#EBF0F8\",\"linecolor\":\"#EBF0F8\",\"ticks\":\"\"}},\"scene\":{\"xaxis\":{\"backgroundcolor\":\"white\",\"gridcolor\":\"#DFE8F3\",\"gridwidth\":2,\"linecolor\":\"#EBF0F8\",\"showbackground\":true,\"ticks\":\"\",\"zerolinecolor\":\"#EBF0F8\"},\"yaxis\":{\"backgroundcolor\":\"white\",\"gridcolor\":\"#DFE8F3\",\"gridwidth\":2,\"linecolor\":\"#EBF0F8\",\"showbackground\":true,\"ticks\":\"\",\"zerolinecolor\":\"#EBF0F8\"},\"zaxis\":{\"backgroundcolor\":\"white\",\"gridcolor\":\"#DFE8F3\",\"gridwidth\":2,\"linecolor\":\"#EBF0F8\",\"showbackground\":true,\"ticks\":\"\",\"zerolinecolor\":\"#EBF0F8\"}},\"shapedefaults\":{\"line\":{\"color\":\"#2a3f5f\"}},\"ternary\":{\"aaxis\":{\"gridcolor\":\"#DFE8F3\",\"linecolor\":\"#A2B1C6\",\"ticks\":\"\"},\"baxis\":{\"gridcolor\":\"#DFE8F3\",\"linecolor\":\"#A2B1C6\",\"ticks\":\"\"},\"bgcolor\":\"white\",\"caxis\":{\"gridcolor\":\"#DFE8F3\",\"linecolor\":\"#A2B1C6\",\"ticks\":\"\"}},\"title\":{\"x\":0.05},\"xaxis\":{\"automargin\":true,\"gridcolor\":\"#EBF0F8\",\"linecolor\":\"#EBF0F8\",\"ticks\":\"\",\"title\":{\"standoff\":15},\"zerolinecolor\":\"#EBF0F8\",\"zerolinewidth\":2},\"yaxis\":{\"automargin\":true,\"gridcolor\":\"#EBF0F8\",\"linecolor\":\"#EBF0F8\",\"ticks\":\"\",\"title\":{\"standoff\":15},\"zerolinecolor\":\"#EBF0F8\",\"zerolinewidth\":2}}},\"title\":{\"text\":\"Train and Test Loss per Epoch\"},\"xaxis\":{\"title\":{\"text\":\"Epochs\"}},\"yaxis\":{\"title\":{\"text\":\"Loss\"}}},                        {\"responsive\": true}                    ).then(function(){\n",
       "                            \n",
       "var gd = document.getElementById('1e0e4148-7043-4e82-8fbd-86279ecd2bd6');\n",
       "var x = new MutationObserver(function (mutations, observer) {{\n",
       "        var display = window.getComputedStyle(gd).display;\n",
       "        if (!display || display === 'none') {{\n",
       "            console.log([gd, 'removed!']);\n",
       "            Plotly.purge(gd);\n",
       "            observer.disconnect();\n",
       "        }}\n",
       "}});\n",
       "\n",
       "// Listen for the removal of the full notebook cells\n",
       "var notebookContainer = gd.closest('#notebook-container');\n",
       "if (notebookContainer) {{\n",
       "    x.observe(notebookContainer, {childList: true});\n",
       "}}\n",
       "\n",
       "// Listen for the clearing of the current output cell\n",
       "var outputEl = gd.closest('.output');\n",
       "if (outputEl) {{\n",
       "    x.observe(outputEl, {childList: true});\n",
       "}}\n",
       "\n",
       "                        })                };                            </script>        </div>\n",
       "</body>\n",
       "</html>"
      ]
     },
     "metadata": {},
     "output_type": "display_data"
    }
   ],
   "source": [
    "epochs=list(range(1,len(train_losses)+1))\n",
    "\n",
    "\n",
    "train=go.Scatter(x=epochs,\n",
    "                 y=train_losses,\n",
    "                 mode='lines+markers',\n",
    "                 name='Train Loss',line=dict(color='red'))\n",
    "\n",
    "\n",
    "\n",
    "test=go.Scatter(x=epochs,\n",
    "                 y=test_losses,\n",
    "                 mode='lines+markers',\n",
    "                 name='Test Loss',line=dict(color='black'))\n",
    "\n",
    "figure=go.Figure(data=[train,test])\n",
    "figure.update_layout(title='Train and Test Loss per Epoch',\n",
    "                    xaxis_title='Epochs',\n",
    "                    yaxis_title='Loss',\n",
    "                    template='plotly_white')\n",
    "\n",
    "figure.show()"
   ]
  },
  {
   "cell_type": "markdown",
   "id": "d297da84",
   "metadata": {
    "papermill": {
     "duration": 0.009111,
     "end_time": "2025-01-31T23:39:31.251863",
     "exception": false,
     "start_time": "2025-01-31T23:39:31.242752",
     "status": "completed"
    },
    "tags": []
   },
   "source": [
    "# Evaluate:"
   ]
  },
  {
   "cell_type": "code",
   "execution_count": 18,
   "id": "d69b2185",
   "metadata": {
    "execution": {
     "iopub.execute_input": "2025-01-31T23:39:31.271368Z",
     "iopub.status.busy": "2025-01-31T23:39:31.271118Z",
     "iopub.status.idle": "2025-01-31T23:39:31.338868Z",
     "shell.execute_reply": "2025-01-31T23:39:31.337869Z"
    },
    "papermill": {
     "duration": 0.078932,
     "end_time": "2025-01-31T23:39:31.340231",
     "exception": false,
     "start_time": "2025-01-31T23:39:31.261299",
     "status": "completed"
    },
    "tags": []
   },
   "outputs": [
    {
     "name": "stdout",
     "output_type": "stream",
     "text": [
      "\u001b[92m True label:9, Predicted label:9\u001b[0m\n",
      "\u001b[92m True label:0, Predicted label:0\u001b[0m\n",
      "\u001b[92m True label:1, Predicted label:1\u001b[0m\n",
      "\u001b[92m True label:2, Predicted label:2\u001b[0m\n",
      "\u001b[92m True label:8, Predicted label:8\u001b[0m\n",
      "\u001b[92m True label:8, Predicted label:8\u001b[0m\n",
      "\u001b[92m True label:9, Predicted label:9\u001b[0m\n",
      "\u001b[92m True label:6, Predicted label:6\u001b[0m\n",
      "\u001b[92m True label:2, Predicted label:2\u001b[0m\n"
     ]
    }
   ],
   "source": [
    "import random\n",
    "#torch.cuda.manual_seed(42)\n",
    "test_images_labels=[]\n",
    "\n",
    "random_inx=random.sample(range(len(test_data)), k=9)\n",
    "random_samples=[test_data[i] for i in random_inx ]\n",
    "for img,label in random_samples:\n",
    "    test_images_labels.append((img,label))\n",
    "\n",
    "model.eval()\n",
    "with torch.inference_mode():\n",
    "    for img,label in test_images_labels:\n",
    "       # print(img.shape)\n",
    "        img=img.unsqueeze(0).to(device)\n",
    "        y_logits=model(img)\n",
    "        y_pred=torch.softmax(y_logits,dim=1).argmax(dim=1)\n",
    "      \n",
    "        if label==y_pred.item():\n",
    "            print(f'\\033[92m True label:{label}, Predicted label:{y_pred.item()}\\033[0m')\n",
    "        else:\n",
    "            print(f'\\033[91m True label:{label}, Predicted label:{y_pred.item()}\\033[0m')"
   ]
  },
  {
   "cell_type": "code",
   "execution_count": 19,
   "id": "8f277dd6",
   "metadata": {
    "execution": {
     "iopub.execute_input": "2025-01-31T23:39:31.359665Z",
     "iopub.status.busy": "2025-01-31T23:39:31.359357Z",
     "iopub.status.idle": "2025-01-31T23:39:32.193199Z",
     "shell.execute_reply": "2025-01-31T23:39:32.192215Z"
    },
    "papermill": {
     "duration": 0.845101,
     "end_time": "2025-01-31T23:39:32.194859",
     "exception": false,
     "start_time": "2025-01-31T23:39:31.349758",
     "status": "completed"
    },
    "tags": []
   },
   "outputs": [
    {
     "data": {
      "image/png": "[encoded data removed]",
      "text/plain": [
       "<Figure size 1500x1500 with 9 Axes>"
      ]
     },
     "metadata": {},
     "output_type": "display_data"
    }
   ],
   "source": [
    "import random\n",
    "#random.seed(42)\n",
    "test_images_labels=[]\n",
    "\n",
    "random_inx=random.sample(range(len(test_data)), k=9)  # or with test_dataloader\n",
    "random_samples=[test_data[i] for i in random_inx ]\n",
    "for img,label in random_samples:\n",
    "    test_images_labels.append((img,label))\n",
    "\n",
    "y_preds=[]\n",
    "model.eval()\n",
    "with torch.inference_mode():\n",
    "    plt.figure(figsize=(15,15))\n",
    "    for inx,(img,label) in enumerate(test_images_labels):\n",
    "        img_model=img.unsqueeze(0).to(device)\n",
    "        img=img.permute(1,2,0)\n",
    "        #print(img.shape)\n",
    "        \n",
    "        y_logits=model(img_model)\n",
    "        y_pred=torch.softmax(y_logits,dim=1).argmax(dim=1)\n",
    "        y_preds.append(y_pred)\n",
    "        plt.subplot(3,3,inx+1)\n",
    "        plt.imshow(img.squeeze(0),cmap='gray')\n",
    "        plt.axis(False)\n",
    "        title_true_text=f'True label is {train_data.classes[label]}  so model predicted {train_data.classes[y_pred.item()]}'\n",
    "        title_false_text=f'Sorry! True label is{train_data.classes[label]} But model predicted {train_data.classes[y_pred.item()]}'\n",
    "        if label==y_pred.item():\n",
    "            plt.title(title_true_text,fontsize=10, c=\"g\")\n",
    "        else:\n",
    "            plt.title(title_false_text,fontsize=10, c=\"r\")\n",
    "y_pred_tensor =torch.cat(y_preds,dim=0)    "
   ]
  },
  {
   "cell_type": "markdown",
   "id": "7beebe36",
   "metadata": {
    "papermill": {
     "duration": 0.010178,
     "end_time": "2025-01-31T23:39:32.216319",
     "exception": false,
     "start_time": "2025-01-31T23:39:32.206141",
     "status": "completed"
    },
    "tags": []
   },
   "source": [
    "# ConfusionMatrix:"
   ]
  },
  {
   "cell_type": "code",
   "execution_count": 20,
   "id": "24e3eec9",
   "metadata": {
    "execution": {
     "iopub.execute_input": "2025-01-31T23:39:32.237704Z",
     "iopub.status.busy": "2025-01-31T23:39:32.237364Z",
     "iopub.status.idle": "2025-01-31T23:39:43.566999Z",
     "shell.execute_reply": "2025-01-31T23:39:43.566017Z"
    },
    "papermill": {
     "duration": 11.341857,
     "end_time": "2025-01-31T23:39:43.568482",
     "exception": false,
     "start_time": "2025-01-31T23:39:32.226625",
     "status": "completed"
    },
    "tags": []
   },
   "outputs": [
    {
     "name": "stdout",
     "output_type": "stream",
     "text": [
      "torch.Size([1])\n"
     ]
    }
   ],
   "source": [
    "# 1. Make predictions with trained model\n",
    "y_preds = []\n",
    "torch.cuda.manual_seed(42)\n",
    "model.eval()\n",
    "with torch.inference_mode():\n",
    "  for img,label in test_data:\n",
    "   \n",
    "      \n",
    "      image= img.to(device) \n",
    "      \n",
    "     \n",
    "    # Do the forward pass\n",
    "      y_logit = model(image.unsqueeze(0))\n",
    "    # Turn predictions from logits -> prediction probabilities -> predictions labels\n",
    "      y_pred = torch.softmax(y_logit, dim=1).argmax(dim=1) # note: perform softmax on the \"logits\" dimension, not \"batch\" dimension (in this case we have a batch size of 32, so can perform on dim=1)\n",
    "    #y_pred=y_logit.argmax(dim=1)\n",
    "      # Put predictions on CPU for evaluation\n",
    "      y_preds.append(y_pred.cpu())\n",
    "print(y_pred.shape)\n",
    "# Concatenate list of predictions into a tensor\n",
    "y_pred_tensor =torch.cat(y_preds,dim=0)"
   ]
  },
  {
   "cell_type": "code",
   "execution_count": 21,
   "id": "5c940356",
   "metadata": {
    "execution": {
     "iopub.execute_input": "2025-01-31T23:39:43.589634Z",
     "iopub.status.busy": "2025-01-31T23:39:43.589334Z",
     "iopub.status.idle": "2025-01-31T23:39:44.463110Z",
     "shell.execute_reply": "2025-01-31T23:39:44.462203Z"
    },
    "papermill": {
     "duration": 0.886056,
     "end_time": "2025-01-31T23:39:44.464769",
     "exception": false,
     "start_time": "2025-01-31T23:39:43.578713",
     "status": "completed"
    },
    "tags": []
   },
   "outputs": [
    {
     "data": {
      "image/png": "[encoded data removed]",
      "text/plain": [
       "<Figure size 1000x700 with 2 Axes>"
      ]
     },
     "metadata": {},
     "output_type": "display_data"
    }
   ],
   "source": [
    "from torchmetrics import ConfusionMatrix\n",
    "from mlxtend.plotting import plot_confusion_matrix\n",
    "\n",
    "# 2. Setup confusion matrix instance and compare predictions to targets\n",
    "confmat = ConfusionMatrix(num_classes=len(train_data.classes), task='multiclass')\n",
    "confmat_tensor = confmat(preds=y_pred_tensor,\n",
    "                         target=test_data.targets)\n",
    "\n",
    "# 3. Plot the confusion matrix\n",
    "fig, ax = plot_confusion_matrix(conf_mat=confmat_tensor.numpy(), # matplotlib likes working with NumPy \n",
    "                                class_names=train_data.classes,colorbar=True, # turn the row and column labels into class names\n",
    "                              \n",
    "                                figsize=(10, 7));"
   ]
  },
  {
   "cell_type": "code",
   "execution_count": null,
   "id": "69cd7fd3",
   "metadata": {
    "papermill": {
     "duration": 0.011095,
     "end_time": "2025-01-31T23:39:44.488005",
     "exception": false,
     "start_time": "2025-01-31T23:39:44.476910",
     "status": "completed"
    },
    "tags": []
   },
   "outputs": [],
   "source": []
  }
 ],
 "metadata": {
  "kaggle": {
   "accelerator": "nvidiaTeslaT4",
   "dataSources": [],
   "dockerImageVersionId": 30840,
   "isGpuEnabled": true,
   "isInternetEnabled": true,
   "language": "python",
   "sourceType": "notebook"
  },
  "kernelspec": {
   "display_name": "Python 3",
   "language": "python",
   "name": "python3"
  },
  "language_info": {
   "codemirror_mode": {
    "name": "ipython",
    "version": 3
   },
   "file_extension": ".py",
   "mimetype": "text/x-python",
   "name": "python",
   "nbconvert_exporter": "python",
   "pygments_lexer": "ipython3",
   "version": "3.10.12"
  },
  "papermill": {
   "default_parameters": {},
   "duration": 163.531731,
   "end_time": "2025-01-31T23:39:46.521988",
   "environment_variables": {},
   "exception": null,
   "input_path": "__notebook__.ipynb",
   "output_path": "__notebook__.ipynb",
   "parameters": {},
   "start_time": "2025-01-31T23:37:02.990257",
   "version": "2.6.0"
  },
  "widgets": {
   "application/vnd.jupyter.widget-state+json": {
    "state": {
     "27f9c28735c44f8a9ad2e9b60a577c5d": {
      "model_module": "@jupyter-widgets/base",
      "model_module_version": "2.0.0",
      "model_name": "LayoutModel",
      "state": {
       "_model_module": "@jupyter-widgets/base",
       "_model_module_version": "2.0.0",
       "_model_name": "LayoutModel",
       "_view_count": null,
       "_view_module": "@jupyter-widgets/base",
       "_view_module_version": "2.0.0",
       "_view_name": "LayoutView",
       "align_content": null,
       "align_items": null,
       "align_self": null,
       "border_bottom": null,
       "border_left": null,
       "border_right": null,
       "border_top": null,
       "bottom": null,
       "display": null,
       "flex": null,
       "flex_flow": null,
       "grid_area": null,
       "grid_auto_columns": null,
       "grid_auto_flow": null,
       "grid_auto_rows": null,
       "grid_column": null,
       "grid_gap": null,
       "grid_row": null,
       "grid_template_areas": null,
       "grid_template_columns": null,
       "grid_template_rows": null,
       "height": null,
       "justify_content": null,
       "justify_items": null,
       "left": null,
       "margin": null,
       "max_height": null,
       "max_width": null,
       "min_height": null,
       "min_width": null,
       "object_fit": null,
       "object_position": null,
       "order": null,
       "overflow": null,
       "padding": null,
       "right": null,
       "top": null,
       "visibility": null,
       "width": null
      }
     },
     "3b3e469842304977a5151661bf9bc5cf": {
      "model_module": "@jupyter-widgets/base",
      "model_module_version": "2.0.0",
      "model_name": "LayoutModel",
      "state": {
       "_model_module": "@jupyter-widgets/base",
       "_model_module_version": "2.0.0",
       "_model_name": "LayoutModel",
       "_view_count": null,
       "_view_module": "@jupyter-widgets/base",
       "_view_module_version": "2.0.0",
       "_view_name": "LayoutView",
       "align_content": null,
       "align_items": null,
       "align_self": null,
       "border_bottom": null,
       "border_left": null,
       "border_right": null,
       "border_top": null,
       "bottom": null,
       "display": null,
       "flex": null,
       "flex_flow": null,
       "grid_area": null,
       "grid_auto_columns": null,
       "grid_auto_flow": null,
       "grid_auto_rows": null,
       "grid_column": null,
       "grid_gap": null,
       "grid_row": null,
       "grid_template_areas": null,
       "grid_template_columns": null,
       "grid_template_rows": null,
       "height": null,
       "justify_content": null,
       "justify_items": null,
       "left": null,
       "margin": null,
       "max_height": null,
       "max_width": null,
       "min_height": null,
       "min_width": null,
       "object_fit": null,
       "object_position": null,
       "order": null,
       "overflow": null,
       "padding": null,
       "right": null,
       "top": null,
       "visibility": null,
       "width": null
      }
     },
     "54d472ac7249431ea953980f139c237f": {
      "model_module": "@jupyter-widgets/controls",
      "model_module_version": "2.0.0",
      "model_name": "HTMLStyleModel",
      "state": {
       "_model_module": "@jupyter-widgets/controls",
       "_model_module_version": "2.0.0",
       "_model_name": "HTMLStyleModel",
       "_view_count": null,
       "_view_module": "@jupyter-widgets/base",
       "_view_module_version": "2.0.0",
       "_view_name": "StyleView",
       "background": null,
       "description_width": "",
       "font_size": null,
       "text_color": null
      }
     },
     "56f683ee23fa45ebaa23a95bdd2172d8": {
      "model_module": "@jupyter-widgets/controls",
      "model_module_version": "2.0.0",
      "model_name": "ProgressStyleModel",
      "state": {
       "_model_module": "@jupyter-widgets/controls",
       "_model_module_version": "2.0.0",
       "_model_name": "ProgressStyleModel",
       "_view_count": null,
       "_view_module": "@jupyter-widgets/base",
       "_view_module_version": "2.0.0",
       "_view_name": "StyleView",
       "bar_color": null,
       "description_width": ""
      }
     },
     "58064aae88404af08b654e00e76ce441": {
      "model_module": "@jupyter-widgets/controls",
      "model_module_version": "2.0.0",
      "model_name": "FloatProgressModel",
      "state": {
       "_dom_classes": [],
       "_model_module": "@jupyter-widgets/controls",
       "_model_module_version": "2.0.0",
       "_model_name": "FloatProgressModel",
       "_view_count": null,
       "_view_module": "@jupyter-widgets/controls",
       "_view_module_version": "2.0.0",
       "_view_name": "ProgressView",
       "bar_style": "success",
       "description": "",
       "description_allow_html": false,
       "layout": "IPY_MODEL_27f9c28735c44f8a9ad2e9b60a577c5d",
       "max": 7.0,
       "min": 0.0,
       "orientation": "horizontal",
       "style": "IPY_MODEL_56f683ee23fa45ebaa23a95bdd2172d8",
       "tabbable": null,
       "tooltip": null,
       "value": 7.0
      }
     },
     "8323a7cde29e46499bda670a923eaff1": {
      "model_module": "@jupyter-widgets/controls",
      "model_module_version": "2.0.0",
      "model_name": "HTMLStyleModel",
      "state": {
       "_model_module": "@jupyter-widgets/controls",
       "_model_module_version": "2.0.0",
       "_model_name": "HTMLStyleModel",
       "_view_count": null,
       "_view_module": "@jupyter-widgets/base",
       "_view_module_version": "2.0.0",
       "_view_name": "StyleView",
       "background": null,
       "description_width": "",
       "font_size": null,
       "text_color": null
      }
     },
     "9e57327ea17d42ce874f49ec719dbd1c": {
      "model_module": "@jupyter-widgets/controls",
      "model_module_version": "2.0.0",
      "model_name": "HTMLModel",
      "state": {
       "_dom_classes": [],
       "_model_module": "@jupyter-widgets/controls",
       "_model_module_version": "2.0.0",
       "_model_name": "HTMLModel",
       "_view_count": null,
       "_view_module": "@jupyter-widgets/controls",
       "_view_module_version": "2.0.0",
       "_view_name": "HTMLView",
       "description": "",
       "description_allow_html": false,
       "layout": "IPY_MODEL_ce9be7121268404b9cab76069b24c24f",
       "placeholder": "​",
       "style": "IPY_MODEL_54d472ac7249431ea953980f139c237f",
       "tabbable": null,
       "tooltip": null,
       "value": "100%"
      }
     },
     "ce9be7121268404b9cab76069b24c24f": {
      "model_module": "@jupyter-widgets/base",
      "model_module_version": "2.0.0",
      "model_name": "LayoutModel",
      "state": {
       "_model_module": "@jupyter-widgets/base",
       "_model_module_version": "2.0.0",
       "_model_name": "LayoutModel",
       "_view_count": null,
       "_view_module": "@jupyter-widgets/base",
       "_view_module_version": "2.0.0",
       "_view_name": "LayoutView",
       "align_content": null,
       "align_items": null,
       "align_self": null,
       "border_bottom": null,
       "border_left": null,
       "border_right": null,
       "border_top": null,
       "bottom": null,
       "display": null,
       "flex": null,
       "flex_flow": null,
       "grid_area": null,
       "grid_auto_columns": null,
       "grid_auto_flow": null,
       "grid_auto_rows": null,
       "grid_column": null,
       "grid_gap": null,
       "grid_row": null,
       "grid_template_areas": null,
       "grid_template_columns": null,
       "grid_template_rows": null,
       "height": null,
       "justify_content": null,
       "justify_items": null,
       "left": null,
       "margin": null,
       "max_height": null,
       "max_width": null,
       "min_height": null,
       "min_width": null,
       "object_fit": null,
       "object_position": null,
       "order": null,
       "overflow": null,
       "padding": null,
       "right": null,
       "top": null,
       "visibility": null,
       "width": null
      }
     },
     "d2e1fbe66de048e2a3c07551a0eb3c8d": {
      "model_module": "@jupyter-widgets/base",
      "model_module_version": "2.0.0",
      "model_name": "LayoutModel",
      "state": {
       "_model_module": "@jupyter-widgets/base",
       "_model_module_version": "2.0.0",
       "_model_name": "LayoutModel",
       "_view_count": null,
       "_view_module": "@jupyter-widgets/base",
       "_view_module_version": "2.0.0",
       "_view_name": "LayoutView",
       "align_content": null,
       "align_items": null,
       "align_self": null,
       "border_bottom": null,
       "border_left": null,
       "border_right": null,
       "border_top": null,
       "bottom": null,
       "display": null,
       "flex": null,
       "flex_flow": null,
       "grid_area": null,
       "grid_auto_columns": null,
       "grid_auto_flow": null,
       "grid_auto_rows": null,
       "grid_column": null,
       "grid_gap": null,
       "grid_row": null,
       "grid_template_areas": null,
       "grid_template_columns": null,
       "grid_template_rows": null,
       "height": null,
       "justify_content": null,
       "justify_items": null,
       "left": null,
       "margin": null,
       "max_height": null,
       "max_width": null,
       "min_height": null,
       "min_width": null,
       "object_fit": null,
       "object_position": null,
       "order": null,
       "overflow": null,
       "padding": null,
       "right": null,
       "top": null,
       "visibility": null,
       "width": null
      }
     },
     "d3cd3114dcf947648c5249d1bad13a1b": {
      "model_module": "@jupyter-widgets/controls",
      "model_module_version": "2.0.0",
      "model_name": "HTMLModel",
      "state": {
       "_dom_classes": [],
       "_model_module": "@jupyter-widgets/controls",
       "_model_module_version": "2.0.0",
       "_model_name": "HTMLModel",
       "_view_count": null,
       "_view_module": "@jupyter-widgets/controls",
       "_view_module_version": "2.0.0",
       "_view_name": "HTMLView",
       "description": "",
       "description_allow_html": false,
       "layout": "IPY_MODEL_d2e1fbe66de048e2a3c07551a0eb3c8d",
       "placeholder": "​",
       "style": "IPY_MODEL_8323a7cde29e46499bda670a923eaff1",
       "tabbable": null,
       "tooltip": null,
       "value": " 7/7 [02:06&lt;00:00, 17.91s/it]"
      }
     },
     "da1bc00c48ac4bef8c99bca8bd92f4c6": {
      "model_module": "@jupyter-widgets/controls",
      "model_module_version": "2.0.0",
      "model_name": "HBoxModel",
      "state": {
       "_dom_classes": [],
       "_model_module": "@jupyter-widgets/controls",
       "_model_module_version": "2.0.0",
       "_model_name": "HBoxModel",
       "_view_count": null,
       "_view_module": "@jupyter-widgets/controls",
       "_view_module_version": "2.0.0",
       "_view_name": "HBoxView",
       "box_style": "",
       "children": [
        "IPY_MODEL_9e57327ea17d42ce874f49ec719dbd1c",
        "IPY_MODEL_58064aae88404af08b654e00e76ce441",
        "IPY_MODEL_d3cd3114dcf947648c5249d1bad13a1b"
       ],
       "layout": "IPY_MODEL_3b3e469842304977a5151661bf9bc5cf",
       "tabbable": null,
       "tooltip": null
      }
     }
    },
    "version_major": 2,
    "version_minor": 0
   }
  }
 },
 "nbformat": 4,
 "nbformat_minor": 5
}
